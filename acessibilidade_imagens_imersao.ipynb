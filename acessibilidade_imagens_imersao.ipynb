{
  "nbformat": 4,
  "nbformat_minor": 0,
  "metadata": {
    "colab": {
      "provenance": [],
      "authorship_tag": "ABX9TyOKy5Ps1h+L4KZBgQmuQf7I",
      "include_colab_link": true
    },
    "kernelspec": {
      "name": "python3",
      "display_name": "Python 3"
    },
    "language_info": {
      "name": "python"
    }
  },
  "cells": [
    {
      "cell_type": "markdown",
      "metadata": {
        "id": "view-in-github",
        "colab_type": "text"
      },
      "source": [
        "<a href=\"https://colab.research.google.com/github/terezafcsousa2/acessibilidade_imagens_imersao/blob/main/acessibilidade_imagens_imersao.ipynb\" target=\"_parent\"><img src=\"https://colab.research.google.com/assets/colab-badge.svg\" alt=\"Open In Colab\"/></a>"
      ]
    },
    {
      "cell_type": "code",
      "execution_count": null,
      "metadata": {
        "id": "hCDoFOQtmV50"
      },
      "outputs": [],
      "source": []
    },
    {
      "cell_type": "code",
      "execution_count": 1,
      "metadata": {
        "id": "J6Pd9SFJ1yVi"
      },
      "outputs": [],
      "source": [
        "!pip install -q -U google-generativeai"
      ]
    },
    {
      "cell_type": "code",
      "source": [],
      "metadata": {
        "id": "s8nn1dVgpNG7"
      },
      "execution_count": null,
      "outputs": []
    },
    {
      "cell_type": "markdown",
      "source": [],
      "metadata": {
        "id": "90HqUJB-pL2x"
      }
    },
    {
      "cell_type": "code",
      "execution_count": null,
      "metadata": {
        "id": "pq3a4KgPrw4J"
      },
      "outputs": [],
      "source": []
    },
    {
      "cell_type": "code",
      "execution_count": 3,
      "metadata": {
        "id": "7BXNFF_kuAIv"
      },
      "outputs": [],
      "source": [
        "# Import the Python SDK\n",
        "import google.generativeai as genai\n",
        "# Used to securely store your API key\n",
        "from google.colab import userdata\n",
        "api_key= userdata.get('SECRETE_KEY')\n",
        "genai.configure(api_key= api_key)"
      ]
    },
    {
      "cell_type": "markdown",
      "source": [
        "## **Esse programa foi criado com o Gemini e inicialmente foi retornado um código em Html. Em seguida foi pedido ao Gemini que criasse uma versão em python. Com algumas modificações o código pode ser rodado. Você notou que os textos estão em negrito, pois é, nem todo deficiente visual tem cegueira total alguns são até programadores.**"
      ],
      "metadata": {
        "id": "C9KbeMzI2foa"
      }
    },
    {
      "cell_type": "markdown",
      "source": [
        "## **Segundo o IBGE milhões de brasileiros tem dificiência visual grave ou cegueira total, para que essas pessoas tenham uma experiência positiva ao navegar em sites a descrição de imagens é um fator importante para que essas pessoas possam navegar com independencia. Esse programa é voltado para as pessoas que criam esses sites para que elas verifiquem se não esqueceram de colocam a descrição de alguma imagem.**"
      ],
      "metadata": {
        "id": "R3HfLVRP1mjb"
      }
    },
    {
      "cell_type": "code",
      "source": [],
      "metadata": {
        "id": "rVihj4Ni19xl"
      },
      "execution_count": null,
      "outputs": []
    },
    {
      "cell_type": "code",
      "source": [
        "\"\"\"A falta de descrição de Imagens é um fator de falta de acessibilidade para as pessoas\n",
        " deficientes visuais, o programa proposto servirá para programadores verificarem se suas\n",
        " páginas foram criadas de acordo com as normas do WCAG (Todas as imagens devem ter descrição)\"\"\"\n",
        "\n",
        "\n",
        "import requests\n",
        "from bs4 import BeautifulSoup\n",
        "\n",
        "def verificar_descricoes_imagens(url):\n",
        "  \"\"\"Verifica se as imagens em uma página da web possuem descrições (alt ou aria-label).\n",
        "\n",
        "\n",
        "\n",
        "  Args:\n",
        "    url: A URL da página da web a ser verificada.\n",
        "\n",
        "  Returns:\n",
        "    Uma tupla contendo o número de imagens sem descrição e uma lista de suas tags HTML.\n",
        "  \"\"\"\n",
        "\n",
        "  try:\n",
        "    response = requests.get(url)\n",
        "    response.raise_for_status()  # Aumentar exceção para status de erro HTTP\n",
        "\n",
        "    soup = BeautifulSoup(response.content, 'html.parser')\n",
        "\n",
        "    imagens = soup.find_all(['img', '[role=\"img\"]'])\n",
        "    sem_descricao = []\n",
        "    for img in imagens:\n",
        "      if not img.get('alt') and not img.get('aria-label'):\n",
        "        sem_descricao.append(img)\n",
        "\n",
        "    return len(sem_descricao), sem_descricao\n",
        "\n",
        "  except requests.exceptions.RequestException as e:\n",
        "    print(f\"Erro ao buscar a URL: {e}\")\n",
        "    return 0, []\n",
        "\n",
        "# Exemplo de uso (Digitar a URL desejada):\n",
        "\n",
        "getURL = input(\"Digite a URL do seu site \")\n",
        "url = getURL\n",
        "num_sem_descricao, imagens_sem_descricao = verificar_descricoes_imagens(url)\n",
        "\n",
        "if num_sem_descricao == 0:\n",
        "  print(\"Todas as imagens têm descrições!\")\n",
        "else:\n",
        "  print(f\"{num_sem_descricao} imagem(s) sem descrição:\")\n",
        "  for img in imagens_sem_descricao:\n",
        "    print(img)"
      ],
      "metadata": {
        "colab": {
          "base_uri": "https://localhost:8080/"
        },
        "id": "MFSDptI6yqTn",
        "outputId": "4050a85c-e49d-49fc-bfbb-1194560fb6cb"
      },
      "execution_count": 5,
      "outputs": [
        {
          "output_type": "stream",
          "name": "stdout",
          "text": [
            "Digite a URL do seu site https://sites.google.com/view/almoco-agradvel/p%C3%A1gina-inicial\n",
            "3 imagem(s) sem descrição:\n",
            "<img class=\"CENy8b\" role=\"img\" src=\"https://lh3.googleusercontent.com/5uyEDSxmY7qey7jxOPCL9HY5pmbKEIH8-YgLg4ezDhmpNYdrlzHoy0jg9vQLAcS7q-WC4QmGcreac2U_nhJbnNUzqqckQGxsIWAnhBPkyMYhfSoDWIIKmV7x7h1QmWQYVQ=w1280\"/>\n",
            "<img class=\"CENy8b\" role=\"img\" src=\"https://lh6.googleusercontent.com/JtSW0_PyMGPCqxrjyl-KBQZYwsa5Z9kZRklRKbfrIsk1MHP2H1DOQARM50vjhuOLb0knzA5eUk7zOK1WyTQv7N62PlOx3z345S9jAwHfXr96xLTHU7SiHg8NqmFp7mjVsA=w1280\"/>\n",
            "<img class=\"CENy8b\" role=\"img\" src=\"https://lh3.googleusercontent.com/MP0F2IguZgSG4jF_jcGZP6QvgjCyO0ppUbMkflplFKCEi41n12Z-DFPOtTS3vMiDJMSQ1aSJR9r7WHJ9d9aC6pCg5x2MjRDooqyOzctGV9NUfFhVowoG7fE-u9VC5xHcGQ=w1280\"/>\n"
          ]
        }
      ]
    },
    {
      "cell_type": "markdown",
      "source": [],
      "metadata": {
        "id": "Ae2Oy9XNxhsU"
      }
    }
  ]
}
